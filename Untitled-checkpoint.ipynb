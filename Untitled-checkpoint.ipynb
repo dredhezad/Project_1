{
 "cells": [
  {
   "cell_type": "code",
   "execution_count": null,
   "id": "a09483e9",
   "metadata": {},
   "outputs": [],
   "source": [
    "import requests\n",
    "from bs4 import BeautifulSoup\n",
    "import pandas as pd\n",
    "import matplotlib.pyplot as plt\n",
    "\n",
    "# Lists to store data\n",
    "products = []\n",
    "prices = []\n",
    "ratings = []\n",
    "\n",
    "# Send an HTTP GET request to the Walmart laptops page\n",
    "url = \"https://www.walmart.com/search/?query=laptop\"\n",
    "response = requests.get(url)\n",
    "soup = BeautifulSoup(response.content, \"html.parser\")\n",
    "\n",
    "# Loop through each product element on the page\n",
    "for product in soup.find_all(\"div\", class_=\"search-result-product-title\"):\n",
    "    # Extract product name\n",
    "    product_name = product.text.strip()\n",
    "    \n",
    "    # Extract product price\n",
    "    product_price = product.find_next(\"span\", class_=\"price-group\").text.strip()\n",
    "    \n",
    "    # Extract product rating (if available)\n",
    "    product_rating = product.find_next(\"span\", class_=\"seo-avg-rating\").text.strip() if product.find_next(\"span\", class_=\"seo-avg-rating\") else None\n",
    "    \n",
    "    # Append data to lists\n",
    "    products.append(product_name)\n",
    "    prices.append(product_price)\n",
    "    ratings.append(product_rating)\n",
    "\n",
    "# Create a Pandas DataFrame\n",
    "df = pd.DataFrame({'Product Name': products, 'Price': prices, 'Rating': ratings})\n",
    "\n",
    "# Display the DataFrame\n",
    "print(df.to_string())\n",
    "\n",
    "# Save the DataFrame to a CSV file\n",
    "df.to_csv('walmart_laptops.csv', index=False)\n",
    "\n",
    "# Data Visualization\n",
    "df2 = pd.read_csv(\"walmart_laptops.csv\")\n",
    "\n",
    "# Convert the 'Rating' column to numeric (removing ' out of 5' and converting to float)\n",
    "df2['Rating'] = df2['Rating'].str.replace(' out of 5', '').astype(float)\n",
    "\n",
    "# Plotting the scatter plot\n",
    "plt.figure(figsize=(10, 6))\n",
    "plt.xlabel(\"Rating\")\n",
    "plt.ylabel(\"Price\")\n",
    "plt.title(\"Rating vs Price for Walmart Laptops\")\n",
    "\n",
    "plt.scatter(df2.Rating, df2.Price, marker=\"o\", c='blue', alpha=0.5)\n",
    "plt.show()\n"
   ]
  }
 ],
 "metadata": {
  "kernelspec": {
   "display_name": "Python 3 (ipykernel)",
   "language": "python",
   "name": "python3"
  },
  "language_info": {
   "codemirror_mode": {
    "name": "ipython",
    "version": 3
   },
   "file_extension": ".py",
   "mimetype": "text/x-python",
   "name": "python",
   "nbconvert_exporter": "python",
   "pygments_lexer": "ipython3",
   "version": "3.11.4"
  }
 },
 "nbformat": 4,
 "nbformat_minor": 5
}
